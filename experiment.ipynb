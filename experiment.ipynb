{
 "cells": [
  {
   "cell_type": "code",
   "execution_count": 84,
   "metadata": {},
   "outputs": [],
   "source": [
    "from datasets import load_dataset\n",
    "from huggingface_hub import snapshot_download\n",
    "from transformers import pipeline\n",
    "import torch\n",
    "import string\n",
    "import json\n",
    "import jellyfish\n",
    "import numpy as np\n",
    "import os\n",
    "\n",
    "\n"
   ]
  },
  {
   "cell_type": "code",
   "execution_count": 12,
   "metadata": {},
   "outputs": [
    {
     "name": "stdout",
     "output_type": "stream",
     "text": [
      "cuda\n"
     ]
    }
   ],
   "source": [
    "device = torch.device(\"cuda\" if torch.cuda.is_available() else \"cpu\")\n",
    "print(device)"
   ]
  },
  {
   "cell_type": "code",
   "execution_count": 11,
   "metadata": {},
   "outputs": [
    {
     "name": "stderr",
     "output_type": "stream",
     "text": [
      "DEBUG:urllib3.connectionpool:https://huggingface.co:443 \"GET /api/datasets/McGill-NLP/WebLINX/revision/main HTTP/1.1\" 200 2412\n",
      "Fetching 1 files:   0%|          | 0/1 [00:00<?, ?it/s]DEBUG:urllib3.connectionpool:Starting new HTTPS connection (1): huggingface.co:443\n",
      "DEBUG:urllib3.connectionpool:https://huggingface.co:443 \"HEAD /datasets/McGill-NLP/WebLINX/resolve/e665e9ca7d823caa541e4de3acc046467c910eae/templates/llama.txt HTTP/1.1\" 200 0\n",
      "Fetching 1 files: 100%|██████████| 1/1 [00:00<00:00,  8.66it/s]\n",
      "DEBUG:urllib3.connectionpool:https://huggingface.co:443 \"GET /api/datasets/McGill-NLP/weblinx HTTP/1.1\" 307 67\n",
      "DEBUG:urllib3.connectionpool:https://huggingface.co:443 \"GET /api/datasets/McGill-NLP/WebLINX HTTP/1.1\" 200 2412\n",
      "DEBUG:urllib3.connectionpool:Starting new HTTPS connection (1): s3.amazonaws.com:443\n",
      "DEBUG:urllib3.connectionpool:https://s3.amazonaws.com:443 \"HEAD /datasets.huggingface.co/datasets/datasets/McGill-NLP/weblinx/McGill-NLP/weblinx.py HTTP/1.1\" 404 0\n",
      "DEBUG:urllib3.connectionpool:https://huggingface.co:443 \"GET /api/datasets/McGill-NLP/weblinx HTTP/1.1\" 307 67\n",
      "DEBUG:urllib3.connectionpool:https://huggingface.co:443 \"GET /api/datasets/McGill-NLP/WebLINX HTTP/1.1\" 200 2412\n",
      "DEBUG:urllib3.connectionpool:Starting new HTTPS connection (1): huggingface.co:443\n",
      "DEBUG:urllib3.connectionpool:https://huggingface.co:443 \"HEAD /datasets/McGill-NLP/weblinx/resolve/e665e9ca7d823caa541e4de3acc046467c910eae/README.md HTTP/1.1\" 307 0\n",
      "DEBUG:urllib3.connectionpool:https://huggingface.co:443 \"HEAD /datasets/McGill-NLP/WebLINX/resolve/e665e9ca7d823caa541e4de3acc046467c910eae/README.md HTTP/1.1\" 200 0\n",
      "DEBUG:urllib3.connectionpool:Starting new HTTPS connection (1): huggingface.co:443\n",
      "DEBUG:urllib3.connectionpool:https://huggingface.co:443 \"HEAD /datasets/McGill-NLP/weblinx/resolve/e665e9ca7d823caa541e4de3acc046467c910eae/.huggingface.yaml HTTP/1.1\" 307 0\n",
      "DEBUG:urllib3.connectionpool:https://huggingface.co:443 \"HEAD /datasets/McGill-NLP/WebLINX/resolve/e665e9ca7d823caa541e4de3acc046467c910eae/.huggingface.yaml HTTP/1.1\" 404 0\n",
      "DEBUG:urllib3.connectionpool:https://huggingface.co:443 \"GET /api/datasets/McGill-NLP/weblinx/revision/e665e9ca7d823caa541e4de3acc046467c910eae HTTP/1.1\" 307 117\n",
      "DEBUG:urllib3.connectionpool:https://huggingface.co:443 \"GET /api/datasets/McGill-NLP/WebLINX/revision/e665e9ca7d823caa541e4de3acc046467c910eae HTTP/1.1\" 200 2412\n",
      "DEBUG:urllib3.connectionpool:https://huggingface.co:443 \"POST /api/datasets/McGill-NLP/weblinx/paths-info/e665e9ca7d823caa541e4de3acc046467c910eae HTTP/1.1\" 307 119\n",
      "DEBUG:urllib3.connectionpool:https://huggingface.co:443 \"POST /api/datasets/McGill-NLP/WebLINX/paths-info/e665e9ca7d823caa541e4de3acc046467c910eae HTTP/1.1\" 200 223\n",
      "DEBUG:urllib3.connectionpool:https://huggingface.co:443 \"POST /api/datasets/McGill-NLP/weblinx/paths-info/e665e9ca7d823caa541e4de3acc046467c910eae HTTP/1.1\" 307 119\n",
      "DEBUG:urllib3.connectionpool:https://huggingface.co:443 \"POST /api/datasets/McGill-NLP/WebLINX/paths-info/e665e9ca7d823caa541e4de3acc046467c910eae HTTP/1.1\" 200 541\n",
      "DEBUG:urllib3.connectionpool:Starting new HTTPS connection (1): huggingface.co:443\n",
      "DEBUG:urllib3.connectionpool:https://huggingface.co:443 \"GET /api/datasets/McGill-NLP/weblinx/revision/e665e9ca7d823caa541e4de3acc046467c910eae HTTP/1.1\" 307 117\n",
      "DEBUG:urllib3.connectionpool:https://huggingface.co:443 \"GET /api/datasets/McGill-NLP/WebLINX/revision/e665e9ca7d823caa541e4de3acc046467c910eae HTTP/1.1\" 200 2412\n",
      "DEBUG:urllib3.connectionpool:https://huggingface.co:443 \"POST /api/datasets/McGill-NLP/weblinx/paths-info/e665e9ca7d823caa541e4de3acc046467c910eae HTTP/1.1\" 307 119\n",
      "DEBUG:urllib3.connectionpool:https://huggingface.co:443 \"POST /api/datasets/McGill-NLP/WebLINX/paths-info/e665e9ca7d823caa541e4de3acc046467c910eae HTTP/1.1\" 200 219\n",
      "DEBUG:urllib3.connectionpool:https://huggingface.co:443 \"POST /api/datasets/McGill-NLP/weblinx/paths-info/e665e9ca7d823caa541e4de3acc046467c910eae HTTP/1.1\" 307 119\n",
      "DEBUG:urllib3.connectionpool:https://huggingface.co:443 \"POST /api/datasets/McGill-NLP/WebLINX/paths-info/e665e9ca7d823caa541e4de3acc046467c910eae HTTP/1.1\" 200 537\n",
      "DEBUG:urllib3.connectionpool:Starting new HTTPS connection (1): huggingface.co:443\n",
      "DEBUG:urllib3.connectionpool:https://huggingface.co:443 \"GET /api/datasets/McGill-NLP/weblinx/revision/e665e9ca7d823caa541e4de3acc046467c910eae HTTP/1.1\" 307 117\n",
      "DEBUG:urllib3.connectionpool:https://huggingface.co:443 \"GET /api/datasets/McGill-NLP/WebLINX/revision/e665e9ca7d823caa541e4de3acc046467c910eae HTTP/1.1\" 200 2412\n",
      "DEBUG:urllib3.connectionpool:https://huggingface.co:443 \"POST /api/datasets/McGill-NLP/weblinx/paths-info/e665e9ca7d823caa541e4de3acc046467c910eae HTTP/1.1\" 307 119\n",
      "DEBUG:urllib3.connectionpool:https://huggingface.co:443 \"POST /api/datasets/McGill-NLP/WebLINX/paths-info/e665e9ca7d823caa541e4de3acc046467c910eae HTTP/1.1\" 200 222\n",
      "DEBUG:urllib3.connectionpool:https://huggingface.co:443 \"POST /api/datasets/McGill-NLP/weblinx/paths-info/e665e9ca7d823caa541e4de3acc046467c910eae HTTP/1.1\" 307 119\n",
      "DEBUG:urllib3.connectionpool:https://huggingface.co:443 \"POST /api/datasets/McGill-NLP/WebLINX/paths-info/e665e9ca7d823caa541e4de3acc046467c910eae HTTP/1.1\" 200 559\n",
      "DEBUG:urllib3.connectionpool:Starting new HTTPS connection (1): huggingface.co:443\n",
      "DEBUG:urllib3.connectionpool:https://huggingface.co:443 \"GET /api/datasets/McGill-NLP/weblinx/revision/e665e9ca7d823caa541e4de3acc046467c910eae HTTP/1.1\" 307 117\n",
      "DEBUG:urllib3.connectionpool:https://huggingface.co:443 \"GET /api/datasets/McGill-NLP/WebLINX/revision/e665e9ca7d823caa541e4de3acc046467c910eae HTTP/1.1\" 200 2412\n",
      "DEBUG:urllib3.connectionpool:https://huggingface.co:443 \"POST /api/datasets/McGill-NLP/weblinx/paths-info/e665e9ca7d823caa541e4de3acc046467c910eae HTTP/1.1\" 307 119\n",
      "DEBUG:urllib3.connectionpool:https://huggingface.co:443 \"POST /api/datasets/McGill-NLP/WebLINX/paths-info/e665e9ca7d823caa541e4de3acc046467c910eae HTTP/1.1\" 200 224\n",
      "DEBUG:urllib3.connectionpool:https://huggingface.co:443 \"POST /api/datasets/McGill-NLP/weblinx/paths-info/e665e9ca7d823caa541e4de3acc046467c910eae HTTP/1.1\" 307 119\n",
      "DEBUG:urllib3.connectionpool:https://huggingface.co:443 \"POST /api/datasets/McGill-NLP/WebLINX/paths-info/e665e9ca7d823caa541e4de3acc046467c910eae HTTP/1.1\" 200 545\n",
      "DEBUG:urllib3.connectionpool:Starting new HTTPS connection (1): huggingface.co:443\n",
      "DEBUG:urllib3.connectionpool:https://huggingface.co:443 \"GET /api/datasets/McGill-NLP/weblinx/revision/e665e9ca7d823caa541e4de3acc046467c910eae HTTP/1.1\" 307 117\n",
      "DEBUG:urllib3.connectionpool:https://huggingface.co:443 \"GET /api/datasets/McGill-NLP/WebLINX/revision/e665e9ca7d823caa541e4de3acc046467c910eae HTTP/1.1\" 200 2412\n",
      "DEBUG:urllib3.connectionpool:https://huggingface.co:443 \"POST /api/datasets/McGill-NLP/weblinx/paths-info/e665e9ca7d823caa541e4de3acc046467c910eae HTTP/1.1\" 307 119\n",
      "DEBUG:urllib3.connectionpool:https://huggingface.co:443 \"POST /api/datasets/McGill-NLP/WebLINX/paths-info/e665e9ca7d823caa541e4de3acc046467c910eae HTTP/1.1\" 200 224\n",
      "DEBUG:urllib3.connectionpool:https://huggingface.co:443 \"POST /api/datasets/McGill-NLP/weblinx/paths-info/e665e9ca7d823caa541e4de3acc046467c910eae HTTP/1.1\" 307 119\n",
      "DEBUG:urllib3.connectionpool:https://huggingface.co:443 \"POST /api/datasets/McGill-NLP/WebLINX/paths-info/e665e9ca7d823caa541e4de3acc046467c910eae HTTP/1.1\" 200 545\n",
      "DEBUG:urllib3.connectionpool:Starting new HTTPS connection (1): huggingface.co:443\n",
      "DEBUG:urllib3.connectionpool:https://huggingface.co:443 \"GET /api/datasets/McGill-NLP/weblinx/revision/e665e9ca7d823caa541e4de3acc046467c910eae HTTP/1.1\" 307 117\n",
      "DEBUG:urllib3.connectionpool:https://huggingface.co:443 \"GET /api/datasets/McGill-NLP/WebLINX/revision/e665e9ca7d823caa541e4de3acc046467c910eae HTTP/1.1\" 200 2412\n",
      "DEBUG:urllib3.connectionpool:https://huggingface.co:443 \"POST /api/datasets/McGill-NLP/weblinx/paths-info/e665e9ca7d823caa541e4de3acc046467c910eae HTTP/1.1\" 307 119\n",
      "DEBUG:urllib3.connectionpool:https://huggingface.co:443 \"POST /api/datasets/McGill-NLP/WebLINX/paths-info/e665e9ca7d823caa541e4de3acc046467c910eae HTTP/1.1\" 200 224\n",
      "DEBUG:urllib3.connectionpool:https://huggingface.co:443 \"POST /api/datasets/McGill-NLP/weblinx/paths-info/e665e9ca7d823caa541e4de3acc046467c910eae HTTP/1.1\" 307 119\n",
      "DEBUG:urllib3.connectionpool:https://huggingface.co:443 \"POST /api/datasets/McGill-NLP/WebLINX/paths-info/e665e9ca7d823caa541e4de3acc046467c910eae HTTP/1.1\" 200 545\n",
      "DEBUG:urllib3.connectionpool:Starting new HTTPS connection (1): huggingface.co:443\n",
      "DEBUG:urllib3.connectionpool:https://huggingface.co:443 \"GET /api/datasets/McGill-NLP/weblinx/revision/e665e9ca7d823caa541e4de3acc046467c910eae HTTP/1.1\" 307 117\n",
      "DEBUG:urllib3.connectionpool:https://huggingface.co:443 \"GET /api/datasets/McGill-NLP/WebLINX/revision/e665e9ca7d823caa541e4de3acc046467c910eae HTTP/1.1\" 200 2412\n",
      "DEBUG:urllib3.connectionpool:https://huggingface.co:443 \"POST /api/datasets/McGill-NLP/weblinx/paths-info/e665e9ca7d823caa541e4de3acc046467c910eae HTTP/1.1\" 307 119\n",
      "DEBUG:urllib3.connectionpool:https://huggingface.co:443 \"POST /api/datasets/McGill-NLP/WebLINX/paths-info/e665e9ca7d823caa541e4de3acc046467c910eae HTTP/1.1\" 200 224\n",
      "DEBUG:urllib3.connectionpool:https://huggingface.co:443 \"POST /api/datasets/McGill-NLP/weblinx/paths-info/e665e9ca7d823caa541e4de3acc046467c910eae HTTP/1.1\" 307 119\n",
      "DEBUG:urllib3.connectionpool:https://huggingface.co:443 \"POST /api/datasets/McGill-NLP/WebLINX/paths-info/e665e9ca7d823caa541e4de3acc046467c910eae HTTP/1.1\" 200 545\n",
      "DEBUG:urllib3.connectionpool:Starting new HTTPS connection (1): huggingface.co:443\n",
      "DEBUG:urllib3.connectionpool:https://huggingface.co:443 \"GET /api/datasets/McGill-NLP/weblinx/revision/e665e9ca7d823caa541e4de3acc046467c910eae HTTP/1.1\" 307 117\n",
      "DEBUG:urllib3.connectionpool:https://huggingface.co:443 \"GET /api/datasets/McGill-NLP/WebLINX/revision/e665e9ca7d823caa541e4de3acc046467c910eae HTTP/1.1\" 200 2412\n",
      "DEBUG:urllib3.connectionpool:Starting new HTTPS connection (1): huggingface.co:443\n",
      "DEBUG:urllib3.connectionpool:https://huggingface.co:443 \"HEAD /datasets/McGill-NLP/weblinx/resolve/e665e9ca7d823caa541e4de3acc046467c910eae/dataset_infos.json HTTP/1.1\" 307 0\n",
      "DEBUG:urllib3.connectionpool:https://huggingface.co:443 \"HEAD /datasets/McGill-NLP/WebLINX/resolve/e665e9ca7d823caa541e4de3acc046467c910eae/dataset_infos.json HTTP/1.1\" 404 0\n",
      "DEBUG:urllib3.connectionpool:https://huggingface.co:443 \"POST /api/datasets/McGill-NLP/weblinx/paths-info/e665e9ca7d823caa541e4de3acc046467c910eae HTTP/1.1\" 307 119\n",
      "DEBUG:urllib3.connectionpool:https://huggingface.co:443 \"POST /api/datasets/McGill-NLP/WebLINX/paths-info/e665e9ca7d823caa541e4de3acc046467c910eae HTTP/1.1\" 200 223\n",
      "DEBUG:urllib3.connectionpool:https://huggingface.co:443 \"POST /api/datasets/McGill-NLP/weblinx/paths-info/e665e9ca7d823caa541e4de3acc046467c910eae HTTP/1.1\" 307 119\n",
      "DEBUG:urllib3.connectionpool:https://huggingface.co:443 \"POST /api/datasets/McGill-NLP/WebLINX/paths-info/e665e9ca7d823caa541e4de3acc046467c910eae HTTP/1.1\" 200 541\n",
      "DEBUG:urllib3.connectionpool:Starting new HTTPS connection (1): huggingface.co:443\n",
      "DEBUG:urllib3.connectionpool:https://huggingface.co:443 \"GET /api/datasets/McGill-NLP/weblinx/revision/e665e9ca7d823caa541e4de3acc046467c910eae HTTP/1.1\" 307 117\n",
      "DEBUG:urllib3.connectionpool:https://huggingface.co:443 \"GET /api/datasets/McGill-NLP/WebLINX/revision/e665e9ca7d823caa541e4de3acc046467c910eae HTTP/1.1\" 200 2412\n",
      "DEBUG:urllib3.connectionpool:https://huggingface.co:443 \"POST /api/datasets/McGill-NLP/weblinx/paths-info/e665e9ca7d823caa541e4de3acc046467c910eae HTTP/1.1\" 307 119\n",
      "DEBUG:urllib3.connectionpool:https://huggingface.co:443 \"POST /api/datasets/McGill-NLP/WebLINX/paths-info/e665e9ca7d823caa541e4de3acc046467c910eae HTTP/1.1\" 200 219\n",
      "DEBUG:urllib3.connectionpool:https://huggingface.co:443 \"POST /api/datasets/McGill-NLP/weblinx/paths-info/e665e9ca7d823caa541e4de3acc046467c910eae HTTP/1.1\" 307 119\n",
      "DEBUG:urllib3.connectionpool:https://huggingface.co:443 \"POST /api/datasets/McGill-NLP/WebLINX/paths-info/e665e9ca7d823caa541e4de3acc046467c910eae HTTP/1.1\" 200 537\n",
      "DEBUG:urllib3.connectionpool:Starting new HTTPS connection (1): huggingface.co:443\n",
      "DEBUG:urllib3.connectionpool:https://huggingface.co:443 \"GET /api/datasets/McGill-NLP/weblinx/revision/e665e9ca7d823caa541e4de3acc046467c910eae HTTP/1.1\" 307 117\n",
      "DEBUG:urllib3.connectionpool:https://huggingface.co:443 \"GET /api/datasets/McGill-NLP/WebLINX/revision/e665e9ca7d823caa541e4de3acc046467c910eae HTTP/1.1\" 200 2412\n",
      "DEBUG:urllib3.connectionpool:https://huggingface.co:443 \"POST /api/datasets/McGill-NLP/weblinx/paths-info/e665e9ca7d823caa541e4de3acc046467c910eae HTTP/1.1\" 307 119\n",
      "DEBUG:urllib3.connectionpool:https://huggingface.co:443 \"POST /api/datasets/McGill-NLP/WebLINX/paths-info/e665e9ca7d823caa541e4de3acc046467c910eae HTTP/1.1\" 200 222\n",
      "DEBUG:urllib3.connectionpool:https://huggingface.co:443 \"POST /api/datasets/McGill-NLP/weblinx/paths-info/e665e9ca7d823caa541e4de3acc046467c910eae HTTP/1.1\" 307 119\n",
      "DEBUG:urllib3.connectionpool:https://huggingface.co:443 \"POST /api/datasets/McGill-NLP/WebLINX/paths-info/e665e9ca7d823caa541e4de3acc046467c910eae HTTP/1.1\" 200 559\n",
      "DEBUG:urllib3.connectionpool:Starting new HTTPS connection (1): huggingface.co:443\n",
      "DEBUG:urllib3.connectionpool:https://huggingface.co:443 \"GET /api/datasets/McGill-NLP/weblinx/revision/e665e9ca7d823caa541e4de3acc046467c910eae HTTP/1.1\" 307 117\n",
      "DEBUG:urllib3.connectionpool:https://huggingface.co:443 \"GET /api/datasets/McGill-NLP/WebLINX/revision/e665e9ca7d823caa541e4de3acc046467c910eae HTTP/1.1\" 200 2412\n",
      "DEBUG:urllib3.connectionpool:https://huggingface.co:443 \"POST /api/datasets/McGill-NLP/weblinx/paths-info/e665e9ca7d823caa541e4de3acc046467c910eae HTTP/1.1\" 307 119\n",
      "DEBUG:urllib3.connectionpool:https://huggingface.co:443 \"POST /api/datasets/McGill-NLP/WebLINX/paths-info/e665e9ca7d823caa541e4de3acc046467c910eae HTTP/1.1\" 200 224\n",
      "DEBUG:urllib3.connectionpool:https://huggingface.co:443 \"POST /api/datasets/McGill-NLP/weblinx/paths-info/e665e9ca7d823caa541e4de3acc046467c910eae HTTP/1.1\" 307 119\n",
      "DEBUG:urllib3.connectionpool:https://huggingface.co:443 \"POST /api/datasets/McGill-NLP/WebLINX/paths-info/e665e9ca7d823caa541e4de3acc046467c910eae HTTP/1.1\" 200 545\n",
      "DEBUG:urllib3.connectionpool:Starting new HTTPS connection (1): huggingface.co:443\n",
      "DEBUG:urllib3.connectionpool:https://huggingface.co:443 \"GET /api/datasets/McGill-NLP/weblinx/revision/e665e9ca7d823caa541e4de3acc046467c910eae HTTP/1.1\" 307 117\n",
      "DEBUG:urllib3.connectionpool:https://huggingface.co:443 \"GET /api/datasets/McGill-NLP/WebLINX/revision/e665e9ca7d823caa541e4de3acc046467c910eae HTTP/1.1\" 200 2412\n",
      "DEBUG:urllib3.connectionpool:https://huggingface.co:443 \"POST /api/datasets/McGill-NLP/weblinx/paths-info/e665e9ca7d823caa541e4de3acc046467c910eae HTTP/1.1\" 307 119\n",
      "DEBUG:urllib3.connectionpool:https://huggingface.co:443 \"POST /api/datasets/McGill-NLP/WebLINX/paths-info/e665e9ca7d823caa541e4de3acc046467c910eae HTTP/1.1\" 200 224\n",
      "DEBUG:urllib3.connectionpool:https://huggingface.co:443 \"POST /api/datasets/McGill-NLP/weblinx/paths-info/e665e9ca7d823caa541e4de3acc046467c910eae HTTP/1.1\" 307 119\n",
      "DEBUG:urllib3.connectionpool:https://huggingface.co:443 \"POST /api/datasets/McGill-NLP/WebLINX/paths-info/e665e9ca7d823caa541e4de3acc046467c910eae HTTP/1.1\" 200 545\n",
      "DEBUG:urllib3.connectionpool:Starting new HTTPS connection (1): huggingface.co:443\n",
      "DEBUG:urllib3.connectionpool:https://huggingface.co:443 \"GET /api/datasets/McGill-NLP/weblinx/revision/e665e9ca7d823caa541e4de3acc046467c910eae HTTP/1.1\" 307 117\n",
      "DEBUG:urllib3.connectionpool:https://huggingface.co:443 \"GET /api/datasets/McGill-NLP/WebLINX/revision/e665e9ca7d823caa541e4de3acc046467c910eae HTTP/1.1\" 200 2412\n",
      "DEBUG:urllib3.connectionpool:https://huggingface.co:443 \"POST /api/datasets/McGill-NLP/weblinx/paths-info/e665e9ca7d823caa541e4de3acc046467c910eae HTTP/1.1\" 307 119\n",
      "DEBUG:urllib3.connectionpool:https://huggingface.co:443 \"POST /api/datasets/McGill-NLP/WebLINX/paths-info/e665e9ca7d823caa541e4de3acc046467c910eae HTTP/1.1\" 200 224\n",
      "DEBUG:urllib3.connectionpool:https://huggingface.co:443 \"POST /api/datasets/McGill-NLP/weblinx/paths-info/e665e9ca7d823caa541e4de3acc046467c910eae HTTP/1.1\" 307 119\n",
      "DEBUG:urllib3.connectionpool:https://huggingface.co:443 \"POST /api/datasets/McGill-NLP/WebLINX/paths-info/e665e9ca7d823caa541e4de3acc046467c910eae HTTP/1.1\" 200 545\n",
      "DEBUG:urllib3.connectionpool:Starting new HTTPS connection (1): huggingface.co:443\n",
      "DEBUG:urllib3.connectionpool:https://huggingface.co:443 \"GET /api/datasets/McGill-NLP/weblinx/revision/e665e9ca7d823caa541e4de3acc046467c910eae HTTP/1.1\" 307 117\n",
      "DEBUG:urllib3.connectionpool:https://huggingface.co:443 \"GET /api/datasets/McGill-NLP/WebLINX/revision/e665e9ca7d823caa541e4de3acc046467c910eae HTTP/1.1\" 200 2412\n",
      "DEBUG:urllib3.connectionpool:https://huggingface.co:443 \"POST /api/datasets/McGill-NLP/weblinx/paths-info/e665e9ca7d823caa541e4de3acc046467c910eae HTTP/1.1\" 307 119\n",
      "DEBUG:urllib3.connectionpool:https://huggingface.co:443 \"POST /api/datasets/McGill-NLP/WebLINX/paths-info/e665e9ca7d823caa541e4de3acc046467c910eae HTTP/1.1\" 200 224\n",
      "DEBUG:urllib3.connectionpool:https://huggingface.co:443 \"POST /api/datasets/McGill-NLP/weblinx/paths-info/e665e9ca7d823caa541e4de3acc046467c910eae HTTP/1.1\" 307 119\n",
      "DEBUG:urllib3.connectionpool:https://huggingface.co:443 \"POST /api/datasets/McGill-NLP/WebLINX/paths-info/e665e9ca7d823caa541e4de3acc046467c910eae HTTP/1.1\" 200 545\n",
      "DEBUG:urllib3.connectionpool:Starting new HTTPS connection (1): huggingface.co:443\n",
      "DEBUG:urllib3.connectionpool:https://huggingface.co:443 \"GET /api/datasets/McGill-NLP/weblinx/revision/e665e9ca7d823caa541e4de3acc046467c910eae HTTP/1.1\" 307 117\n",
      "DEBUG:urllib3.connectionpool:https://huggingface.co:443 \"GET /api/datasets/McGill-NLP/WebLINX/revision/e665e9ca7d823caa541e4de3acc046467c910eae HTTP/1.1\" 200 2412\n",
      "DEBUG:filelock:Attempting to acquire lock 1386412066128 on C:\\Users\\aswil\\.cache\\huggingface\\datasets\\_Users_aswil_.cache_huggingface_datasets_McGill-NLP___weblinx_chat_0.0.0_e665e9ca7d823caa541e4de3acc046467c910eae.lock\n",
      "DEBUG:filelock:Lock 1386412066128 acquired on C:\\Users\\aswil\\.cache\\huggingface\\datasets\\_Users_aswil_.cache_huggingface_datasets_McGill-NLP___weblinx_chat_0.0.0_e665e9ca7d823caa541e4de3acc046467c910eae.lock\n",
      "DEBUG:fsspec.local:open file: C:/Users/aswil/.cache/huggingface/datasets/McGill-NLP___weblinx/chat/0.0.0/e665e9ca7d823caa541e4de3acc046467c910eae/dataset_info.json\n",
      "DEBUG:filelock:Attempting to release lock 1386412066128 on C:\\Users\\aswil\\.cache\\huggingface\\datasets\\_Users_aswil_.cache_huggingface_datasets_McGill-NLP___weblinx_chat_0.0.0_e665e9ca7d823caa541e4de3acc046467c910eae.lock\n",
      "DEBUG:filelock:Lock 1386412066128 released on C:\\Users\\aswil\\.cache\\huggingface\\datasets\\_Users_aswil_.cache_huggingface_datasets_McGill-NLP___weblinx_chat_0.0.0_e665e9ca7d823caa541e4de3acc046467c910eae.lock\n",
      "DEBUG:filelock:Attempting to acquire lock 1386415177008 on C:\\Users\\aswil\\.cache\\huggingface\\datasets\\McGill-NLP___weblinx\\chat\\0.0.0\\e665e9ca7d823caa541e4de3acc046467c910eae_builder.lock\n",
      "DEBUG:filelock:Lock 1386415177008 acquired on C:\\Users\\aswil\\.cache\\huggingface\\datasets\\McGill-NLP___weblinx\\chat\\0.0.0\\e665e9ca7d823caa541e4de3acc046467c910eae_builder.lock\n",
      "DEBUG:fsspec.local:open file: C:/Users/aswil/.cache/huggingface/datasets/McGill-NLP___weblinx/chat/0.0.0/e665e9ca7d823caa541e4de3acc046467c910eae/dataset_info.json\n",
      "DEBUG:filelock:Attempting to release lock 1386415177008 on C:\\Users\\aswil\\.cache\\huggingface\\datasets\\McGill-NLP___weblinx\\chat\\0.0.0\\e665e9ca7d823caa541e4de3acc046467c910eae_builder.lock\n",
      "DEBUG:filelock:Lock 1386415177008 released on C:\\Users\\aswil\\.cache\\huggingface\\datasets\\McGill-NLP___weblinx\\chat\\0.0.0\\e665e9ca7d823caa541e4de3acc046467c910eae_builder.lock\n",
      "DEBUG:urllib3.connectionpool:https://huggingface.co:443 \"GET /api/datasets/McGill-NLP/weblinx HTTP/1.1\" 307 67\n",
      "DEBUG:urllib3.connectionpool:https://huggingface.co:443 \"GET /api/datasets/McGill-NLP/WebLINX HTTP/1.1\" 200 2412\n",
      "DEBUG:urllib3.connectionpool:Starting new HTTPS connection (1): s3.amazonaws.com:443\n",
      "DEBUG:urllib3.connectionpool:https://s3.amazonaws.com:443 \"HEAD /datasets.huggingface.co/datasets/datasets/McGill-NLP/weblinx/McGill-NLP/weblinx.py HTTP/1.1\" 404 0\n",
      "DEBUG:urllib3.connectionpool:https://huggingface.co:443 \"GET /api/datasets/McGill-NLP/weblinx HTTP/1.1\" 307 67\n",
      "DEBUG:urllib3.connectionpool:https://huggingface.co:443 \"GET /api/datasets/McGill-NLP/WebLINX HTTP/1.1\" 200 2412\n",
      "DEBUG:urllib3.connectionpool:Starting new HTTPS connection (1): huggingface.co:443\n",
      "DEBUG:urllib3.connectionpool:https://huggingface.co:443 \"HEAD /datasets/McGill-NLP/weblinx/resolve/e665e9ca7d823caa541e4de3acc046467c910eae/README.md HTTP/1.1\" 307 0\n",
      "DEBUG:urllib3.connectionpool:https://huggingface.co:443 \"HEAD /datasets/McGill-NLP/WebLINX/resolve/e665e9ca7d823caa541e4de3acc046467c910eae/README.md HTTP/1.1\" 200 0\n",
      "DEBUG:urllib3.connectionpool:Starting new HTTPS connection (1): huggingface.co:443\n",
      "DEBUG:urllib3.connectionpool:https://huggingface.co:443 \"HEAD /datasets/McGill-NLP/weblinx/resolve/e665e9ca7d823caa541e4de3acc046467c910eae/.huggingface.yaml HTTP/1.1\" 307 0\n",
      "DEBUG:urllib3.connectionpool:https://huggingface.co:443 \"HEAD /datasets/McGill-NLP/WebLINX/resolve/e665e9ca7d823caa541e4de3acc046467c910eae/.huggingface.yaml HTTP/1.1\" 404 0\n",
      "DEBUG:urllib3.connectionpool:https://huggingface.co:443 \"POST /api/datasets/McGill-NLP/weblinx/paths-info/e665e9ca7d823caa541e4de3acc046467c910eae HTTP/1.1\" 307 119\n",
      "DEBUG:urllib3.connectionpool:https://huggingface.co:443 \"POST /api/datasets/McGill-NLP/WebLINX/paths-info/e665e9ca7d823caa541e4de3acc046467c910eae HTTP/1.1\" 200 223\n",
      "DEBUG:urllib3.connectionpool:https://huggingface.co:443 \"POST /api/datasets/McGill-NLP/weblinx/paths-info/e665e9ca7d823caa541e4de3acc046467c910eae HTTP/1.1\" 307 119\n",
      "DEBUG:urllib3.connectionpool:https://huggingface.co:443 \"POST /api/datasets/McGill-NLP/WebLINX/paths-info/e665e9ca7d823caa541e4de3acc046467c910eae HTTP/1.1\" 200 541\n",
      "DEBUG:urllib3.connectionpool:Starting new HTTPS connection (1): huggingface.co:443\n",
      "DEBUG:urllib3.connectionpool:https://huggingface.co:443 \"GET /api/datasets/McGill-NLP/weblinx/revision/e665e9ca7d823caa541e4de3acc046467c910eae HTTP/1.1\" 307 117\n",
      "DEBUG:urllib3.connectionpool:https://huggingface.co:443 \"GET /api/datasets/McGill-NLP/WebLINX/revision/e665e9ca7d823caa541e4de3acc046467c910eae HTTP/1.1\" 200 2412\n",
      "DEBUG:urllib3.connectionpool:https://huggingface.co:443 \"POST /api/datasets/McGill-NLP/weblinx/paths-info/e665e9ca7d823caa541e4de3acc046467c910eae HTTP/1.1\" 307 119\n",
      "DEBUG:urllib3.connectionpool:https://huggingface.co:443 \"POST /api/datasets/McGill-NLP/WebLINX/paths-info/e665e9ca7d823caa541e4de3acc046467c910eae HTTP/1.1\" 200 219\n",
      "DEBUG:urllib3.connectionpool:https://huggingface.co:443 \"POST /api/datasets/McGill-NLP/weblinx/paths-info/e665e9ca7d823caa541e4de3acc046467c910eae HTTP/1.1\" 307 119\n",
      "DEBUG:urllib3.connectionpool:https://huggingface.co:443 \"POST /api/datasets/McGill-NLP/WebLINX/paths-info/e665e9ca7d823caa541e4de3acc046467c910eae HTTP/1.1\" 200 537\n",
      "DEBUG:urllib3.connectionpool:Starting new HTTPS connection (1): huggingface.co:443\n",
      "DEBUG:urllib3.connectionpool:https://huggingface.co:443 \"GET /api/datasets/McGill-NLP/weblinx/revision/e665e9ca7d823caa541e4de3acc046467c910eae HTTP/1.1\" 307 117\n",
      "DEBUG:urllib3.connectionpool:https://huggingface.co:443 \"GET /api/datasets/McGill-NLP/WebLINX/revision/e665e9ca7d823caa541e4de3acc046467c910eae HTTP/1.1\" 200 2412\n",
      "DEBUG:urllib3.connectionpool:https://huggingface.co:443 \"POST /api/datasets/McGill-NLP/weblinx/paths-info/e665e9ca7d823caa541e4de3acc046467c910eae HTTP/1.1\" 307 119\n",
      "DEBUG:urllib3.connectionpool:https://huggingface.co:443 \"POST /api/datasets/McGill-NLP/WebLINX/paths-info/e665e9ca7d823caa541e4de3acc046467c910eae HTTP/1.1\" 200 222\n",
      "DEBUG:urllib3.connectionpool:https://huggingface.co:443 \"POST /api/datasets/McGill-NLP/weblinx/paths-info/e665e9ca7d823caa541e4de3acc046467c910eae HTTP/1.1\" 307 119\n",
      "DEBUG:urllib3.connectionpool:https://huggingface.co:443 \"POST /api/datasets/McGill-NLP/WebLINX/paths-info/e665e9ca7d823caa541e4de3acc046467c910eae HTTP/1.1\" 200 559\n",
      "DEBUG:urllib3.connectionpool:Starting new HTTPS connection (1): huggingface.co:443\n",
      "DEBUG:urllib3.connectionpool:https://huggingface.co:443 \"GET /api/datasets/McGill-NLP/weblinx/revision/e665e9ca7d823caa541e4de3acc046467c910eae HTTP/1.1\" 307 117\n",
      "DEBUG:urllib3.connectionpool:https://huggingface.co:443 \"GET /api/datasets/McGill-NLP/WebLINX/revision/e665e9ca7d823caa541e4de3acc046467c910eae HTTP/1.1\" 200 2412\n",
      "DEBUG:urllib3.connectionpool:https://huggingface.co:443 \"POST /api/datasets/McGill-NLP/weblinx/paths-info/e665e9ca7d823caa541e4de3acc046467c910eae HTTP/1.1\" 307 119\n",
      "DEBUG:urllib3.connectionpool:https://huggingface.co:443 \"POST /api/datasets/McGill-NLP/WebLINX/paths-info/e665e9ca7d823caa541e4de3acc046467c910eae HTTP/1.1\" 200 224\n",
      "DEBUG:urllib3.connectionpool:https://huggingface.co:443 \"POST /api/datasets/McGill-NLP/weblinx/paths-info/e665e9ca7d823caa541e4de3acc046467c910eae HTTP/1.1\" 307 119\n",
      "DEBUG:urllib3.connectionpool:https://huggingface.co:443 \"POST /api/datasets/McGill-NLP/WebLINX/paths-info/e665e9ca7d823caa541e4de3acc046467c910eae HTTP/1.1\" 200 545\n",
      "DEBUG:urllib3.connectionpool:Starting new HTTPS connection (1): huggingface.co:443\n",
      "DEBUG:urllib3.connectionpool:https://huggingface.co:443 \"GET /api/datasets/McGill-NLP/weblinx/revision/e665e9ca7d823caa541e4de3acc046467c910eae HTTP/1.1\" 307 117\n",
      "DEBUG:urllib3.connectionpool:https://huggingface.co:443 \"GET /api/datasets/McGill-NLP/WebLINX/revision/e665e9ca7d823caa541e4de3acc046467c910eae HTTP/1.1\" 200 2412\n",
      "DEBUG:urllib3.connectionpool:https://huggingface.co:443 \"POST /api/datasets/McGill-NLP/weblinx/paths-info/e665e9ca7d823caa541e4de3acc046467c910eae HTTP/1.1\" 307 119\n",
      "DEBUG:urllib3.connectionpool:https://huggingface.co:443 \"POST /api/datasets/McGill-NLP/WebLINX/paths-info/e665e9ca7d823caa541e4de3acc046467c910eae HTTP/1.1\" 200 224\n",
      "DEBUG:urllib3.connectionpool:https://huggingface.co:443 \"POST /api/datasets/McGill-NLP/weblinx/paths-info/e665e9ca7d823caa541e4de3acc046467c910eae HTTP/1.1\" 307 119\n",
      "DEBUG:urllib3.connectionpool:https://huggingface.co:443 \"POST /api/datasets/McGill-NLP/WebLINX/paths-info/e665e9ca7d823caa541e4de3acc046467c910eae HTTP/1.1\" 200 545\n",
      "DEBUG:urllib3.connectionpool:Starting new HTTPS connection (1): huggingface.co:443\n",
      "DEBUG:urllib3.connectionpool:https://huggingface.co:443 \"GET /api/datasets/McGill-NLP/weblinx/revision/e665e9ca7d823caa541e4de3acc046467c910eae HTTP/1.1\" 307 117\n",
      "DEBUG:urllib3.connectionpool:https://huggingface.co:443 \"GET /api/datasets/McGill-NLP/WebLINX/revision/e665e9ca7d823caa541e4de3acc046467c910eae HTTP/1.1\" 200 2412\n",
      "DEBUG:urllib3.connectionpool:https://huggingface.co:443 \"POST /api/datasets/McGill-NLP/weblinx/paths-info/e665e9ca7d823caa541e4de3acc046467c910eae HTTP/1.1\" 307 119\n",
      "DEBUG:urllib3.connectionpool:https://huggingface.co:443 \"POST /api/datasets/McGill-NLP/WebLINX/paths-info/e665e9ca7d823caa541e4de3acc046467c910eae HTTP/1.1\" 200 224\n",
      "DEBUG:urllib3.connectionpool:https://huggingface.co:443 \"POST /api/datasets/McGill-NLP/weblinx/paths-info/e665e9ca7d823caa541e4de3acc046467c910eae HTTP/1.1\" 307 119\n",
      "DEBUG:urllib3.connectionpool:https://huggingface.co:443 \"POST /api/datasets/McGill-NLP/WebLINX/paths-info/e665e9ca7d823caa541e4de3acc046467c910eae HTTP/1.1\" 200 545\n",
      "DEBUG:urllib3.connectionpool:Starting new HTTPS connection (1): huggingface.co:443\n",
      "DEBUG:urllib3.connectionpool:https://huggingface.co:443 \"GET /api/datasets/McGill-NLP/weblinx/revision/e665e9ca7d823caa541e4de3acc046467c910eae HTTP/1.1\" 307 117\n",
      "DEBUG:urllib3.connectionpool:https://huggingface.co:443 \"GET /api/datasets/McGill-NLP/WebLINX/revision/e665e9ca7d823caa541e4de3acc046467c910eae HTTP/1.1\" 200 2412\n",
      "DEBUG:urllib3.connectionpool:https://huggingface.co:443 \"POST /api/datasets/McGill-NLP/weblinx/paths-info/e665e9ca7d823caa541e4de3acc046467c910eae HTTP/1.1\" 307 119\n",
      "DEBUG:urllib3.connectionpool:https://huggingface.co:443 \"POST /api/datasets/McGill-NLP/WebLINX/paths-info/e665e9ca7d823caa541e4de3acc046467c910eae HTTP/1.1\" 200 224\n",
      "DEBUG:urllib3.connectionpool:https://huggingface.co:443 \"POST /api/datasets/McGill-NLP/weblinx/paths-info/e665e9ca7d823caa541e4de3acc046467c910eae HTTP/1.1\" 307 119\n",
      "DEBUG:urllib3.connectionpool:https://huggingface.co:443 \"POST /api/datasets/McGill-NLP/WebLINX/paths-info/e665e9ca7d823caa541e4de3acc046467c910eae HTTP/1.1\" 200 545\n",
      "DEBUG:urllib3.connectionpool:Starting new HTTPS connection (1): huggingface.co:443\n",
      "DEBUG:urllib3.connectionpool:https://huggingface.co:443 \"GET /api/datasets/McGill-NLP/weblinx/revision/e665e9ca7d823caa541e4de3acc046467c910eae HTTP/1.1\" 307 117\n",
      "DEBUG:urllib3.connectionpool:https://huggingface.co:443 \"GET /api/datasets/McGill-NLP/WebLINX/revision/e665e9ca7d823caa541e4de3acc046467c910eae HTTP/1.1\" 200 2412\n",
      "DEBUG:urllib3.connectionpool:Starting new HTTPS connection (1): huggingface.co:443\n",
      "DEBUG:urllib3.connectionpool:https://huggingface.co:443 \"HEAD /datasets/McGill-NLP/weblinx/resolve/e665e9ca7d823caa541e4de3acc046467c910eae/dataset_infos.json HTTP/1.1\" 307 0\n",
      "DEBUG:urllib3.connectionpool:https://huggingface.co:443 \"HEAD /datasets/McGill-NLP/WebLINX/resolve/e665e9ca7d823caa541e4de3acc046467c910eae/dataset_infos.json HTTP/1.1\" 404 0\n",
      "DEBUG:urllib3.connectionpool:https://huggingface.co:443 \"POST /api/datasets/McGill-NLP/weblinx/paths-info/e665e9ca7d823caa541e4de3acc046467c910eae HTTP/1.1\" 307 119\n",
      "DEBUG:urllib3.connectionpool:https://huggingface.co:443 \"POST /api/datasets/McGill-NLP/WebLINX/paths-info/e665e9ca7d823caa541e4de3acc046467c910eae HTTP/1.1\" 200 223\n",
      "DEBUG:urllib3.connectionpool:https://huggingface.co:443 \"POST /api/datasets/McGill-NLP/weblinx/paths-info/e665e9ca7d823caa541e4de3acc046467c910eae HTTP/1.1\" 307 119\n",
      "DEBUG:urllib3.connectionpool:https://huggingface.co:443 \"POST /api/datasets/McGill-NLP/WebLINX/paths-info/e665e9ca7d823caa541e4de3acc046467c910eae HTTP/1.1\" 200 541\n",
      "DEBUG:urllib3.connectionpool:Starting new HTTPS connection (1): huggingface.co:443\n",
      "DEBUG:urllib3.connectionpool:https://huggingface.co:443 \"GET /api/datasets/McGill-NLP/weblinx/revision/e665e9ca7d823caa541e4de3acc046467c910eae HTTP/1.1\" 307 117\n",
      "DEBUG:urllib3.connectionpool:https://huggingface.co:443 \"GET /api/datasets/McGill-NLP/WebLINX/revision/e665e9ca7d823caa541e4de3acc046467c910eae HTTP/1.1\" 200 2412\n",
      "DEBUG:urllib3.connectionpool:https://huggingface.co:443 \"POST /api/datasets/McGill-NLP/weblinx/paths-info/e665e9ca7d823caa541e4de3acc046467c910eae HTTP/1.1\" 307 119\n",
      "DEBUG:urllib3.connectionpool:https://huggingface.co:443 \"POST /api/datasets/McGill-NLP/WebLINX/paths-info/e665e9ca7d823caa541e4de3acc046467c910eae HTTP/1.1\" 200 219\n",
      "DEBUG:urllib3.connectionpool:https://huggingface.co:443 \"POST /api/datasets/McGill-NLP/weblinx/paths-info/e665e9ca7d823caa541e4de3acc046467c910eae HTTP/1.1\" 307 119\n",
      "DEBUG:urllib3.connectionpool:https://huggingface.co:443 \"POST /api/datasets/McGill-NLP/WebLINX/paths-info/e665e9ca7d823caa541e4de3acc046467c910eae HTTP/1.1\" 200 537\n",
      "DEBUG:urllib3.connectionpool:Starting new HTTPS connection (1): huggingface.co:443\n",
      "DEBUG:urllib3.connectionpool:https://huggingface.co:443 \"GET /api/datasets/McGill-NLP/weblinx/revision/e665e9ca7d823caa541e4de3acc046467c910eae HTTP/1.1\" 307 117\n",
      "DEBUG:urllib3.connectionpool:https://huggingface.co:443 \"GET /api/datasets/McGill-NLP/WebLINX/revision/e665e9ca7d823caa541e4de3acc046467c910eae HTTP/1.1\" 200 2412\n",
      "DEBUG:urllib3.connectionpool:https://huggingface.co:443 \"POST /api/datasets/McGill-NLP/weblinx/paths-info/e665e9ca7d823caa541e4de3acc046467c910eae HTTP/1.1\" 307 119\n",
      "DEBUG:urllib3.connectionpool:https://huggingface.co:443 \"POST /api/datasets/McGill-NLP/WebLINX/paths-info/e665e9ca7d823caa541e4de3acc046467c910eae HTTP/1.1\" 200 222\n",
      "DEBUG:urllib3.connectionpool:https://huggingface.co:443 \"POST /api/datasets/McGill-NLP/weblinx/paths-info/e665e9ca7d823caa541e4de3acc046467c910eae HTTP/1.1\" 307 119\n",
      "DEBUG:urllib3.connectionpool:https://huggingface.co:443 \"POST /api/datasets/McGill-NLP/WebLINX/paths-info/e665e9ca7d823caa541e4de3acc046467c910eae HTTP/1.1\" 200 559\n",
      "DEBUG:urllib3.connectionpool:Starting new HTTPS connection (1): huggingface.co:443\n",
      "DEBUG:urllib3.connectionpool:https://huggingface.co:443 \"GET /api/datasets/McGill-NLP/weblinx/revision/e665e9ca7d823caa541e4de3acc046467c910eae HTTP/1.1\" 307 117\n",
      "DEBUG:urllib3.connectionpool:https://huggingface.co:443 \"GET /api/datasets/McGill-NLP/WebLINX/revision/e665e9ca7d823caa541e4de3acc046467c910eae HTTP/1.1\" 200 2412\n",
      "DEBUG:urllib3.connectionpool:https://huggingface.co:443 \"POST /api/datasets/McGill-NLP/weblinx/paths-info/e665e9ca7d823caa541e4de3acc046467c910eae HTTP/1.1\" 307 119\n",
      "DEBUG:urllib3.connectionpool:https://huggingface.co:443 \"POST /api/datasets/McGill-NLP/WebLINX/paths-info/e665e9ca7d823caa541e4de3acc046467c910eae HTTP/1.1\" 200 224\n",
      "DEBUG:urllib3.connectionpool:https://huggingface.co:443 \"POST /api/datasets/McGill-NLP/weblinx/paths-info/e665e9ca7d823caa541e4de3acc046467c910eae HTTP/1.1\" 307 119\n",
      "DEBUG:urllib3.connectionpool:https://huggingface.co:443 \"POST /api/datasets/McGill-NLP/WebLINX/paths-info/e665e9ca7d823caa541e4de3acc046467c910eae HTTP/1.1\" 200 545\n",
      "DEBUG:urllib3.connectionpool:Starting new HTTPS connection (1): huggingface.co:443\n",
      "DEBUG:urllib3.connectionpool:https://huggingface.co:443 \"GET /api/datasets/McGill-NLP/weblinx/revision/e665e9ca7d823caa541e4de3acc046467c910eae HTTP/1.1\" 307 117\n",
      "DEBUG:urllib3.connectionpool:https://huggingface.co:443 \"GET /api/datasets/McGill-NLP/WebLINX/revision/e665e9ca7d823caa541e4de3acc046467c910eae HTTP/1.1\" 200 2412\n",
      "DEBUG:urllib3.connectionpool:https://huggingface.co:443 \"POST /api/datasets/McGill-NLP/weblinx/paths-info/e665e9ca7d823caa541e4de3acc046467c910eae HTTP/1.1\" 307 119\n",
      "DEBUG:urllib3.connectionpool:https://huggingface.co:443 \"POST /api/datasets/McGill-NLP/WebLINX/paths-info/e665e9ca7d823caa541e4de3acc046467c910eae HTTP/1.1\" 200 224\n",
      "DEBUG:urllib3.connectionpool:https://huggingface.co:443 \"POST /api/datasets/McGill-NLP/weblinx/paths-info/e665e9ca7d823caa541e4de3acc046467c910eae HTTP/1.1\" 307 119\n",
      "DEBUG:urllib3.connectionpool:https://huggingface.co:443 \"POST /api/datasets/McGill-NLP/WebLINX/paths-info/e665e9ca7d823caa541e4de3acc046467c910eae HTTP/1.1\" 200 545\n",
      "DEBUG:urllib3.connectionpool:Starting new HTTPS connection (1): huggingface.co:443\n",
      "DEBUG:urllib3.connectionpool:https://huggingface.co:443 \"GET /api/datasets/McGill-NLP/weblinx/revision/e665e9ca7d823caa541e4de3acc046467c910eae HTTP/1.1\" 307 117\n",
      "DEBUG:urllib3.connectionpool:https://huggingface.co:443 \"GET /api/datasets/McGill-NLP/WebLINX/revision/e665e9ca7d823caa541e4de3acc046467c910eae HTTP/1.1\" 200 2412\n",
      "DEBUG:urllib3.connectionpool:https://huggingface.co:443 \"POST /api/datasets/McGill-NLP/weblinx/paths-info/e665e9ca7d823caa541e4de3acc046467c910eae HTTP/1.1\" 307 119\n",
      "DEBUG:urllib3.connectionpool:https://huggingface.co:443 \"POST /api/datasets/McGill-NLP/WebLINX/paths-info/e665e9ca7d823caa541e4de3acc046467c910eae HTTP/1.1\" 200 224\n",
      "DEBUG:urllib3.connectionpool:https://huggingface.co:443 \"POST /api/datasets/McGill-NLP/weblinx/paths-info/e665e9ca7d823caa541e4de3acc046467c910eae HTTP/1.1\" 307 119\n",
      "DEBUG:urllib3.connectionpool:https://huggingface.co:443 \"POST /api/datasets/McGill-NLP/WebLINX/paths-info/e665e9ca7d823caa541e4de3acc046467c910eae HTTP/1.1\" 200 545\n",
      "DEBUG:urllib3.connectionpool:Starting new HTTPS connection (1): huggingface.co:443\n",
      "DEBUG:urllib3.connectionpool:https://huggingface.co:443 \"GET /api/datasets/McGill-NLP/weblinx/revision/e665e9ca7d823caa541e4de3acc046467c910eae HTTP/1.1\" 307 117\n",
      "DEBUG:urllib3.connectionpool:https://huggingface.co:443 \"GET /api/datasets/McGill-NLP/WebLINX/revision/e665e9ca7d823caa541e4de3acc046467c910eae HTTP/1.1\" 200 2412\n",
      "DEBUG:urllib3.connectionpool:https://huggingface.co:443 \"POST /api/datasets/McGill-NLP/weblinx/paths-info/e665e9ca7d823caa541e4de3acc046467c910eae HTTP/1.1\" 307 119\n",
      "DEBUG:urllib3.connectionpool:https://huggingface.co:443 \"POST /api/datasets/McGill-NLP/WebLINX/paths-info/e665e9ca7d823caa541e4de3acc046467c910eae HTTP/1.1\" 200 224\n",
      "DEBUG:urllib3.connectionpool:https://huggingface.co:443 \"POST /api/datasets/McGill-NLP/weblinx/paths-info/e665e9ca7d823caa541e4de3acc046467c910eae HTTP/1.1\" 307 119\n",
      "DEBUG:urllib3.connectionpool:https://huggingface.co:443 \"POST /api/datasets/McGill-NLP/WebLINX/paths-info/e665e9ca7d823caa541e4de3acc046467c910eae HTTP/1.1\" 200 545\n",
      "DEBUG:urllib3.connectionpool:Starting new HTTPS connection (1): huggingface.co:443\n",
      "DEBUG:urllib3.connectionpool:https://huggingface.co:443 \"GET /api/datasets/McGill-NLP/weblinx/revision/e665e9ca7d823caa541e4de3acc046467c910eae HTTP/1.1\" 307 117\n",
      "DEBUG:urllib3.connectionpool:https://huggingface.co:443 \"GET /api/datasets/McGill-NLP/WebLINX/revision/e665e9ca7d823caa541e4de3acc046467c910eae HTTP/1.1\" 200 2412\n",
      "DEBUG:filelock:Attempting to acquire lock 1386414218240 on C:\\Users\\aswil\\.cache\\huggingface\\datasets\\_Users_aswil_.cache_huggingface_datasets_McGill-NLP___weblinx_chat_0.0.0_e665e9ca7d823caa541e4de3acc046467c910eae.lock\n",
      "DEBUG:filelock:Lock 1386414218240 acquired on C:\\Users\\aswil\\.cache\\huggingface\\datasets\\_Users_aswil_.cache_huggingface_datasets_McGill-NLP___weblinx_chat_0.0.0_e665e9ca7d823caa541e4de3acc046467c910eae.lock\n",
      "DEBUG:fsspec.local:open file: C:/Users/aswil/.cache/huggingface/datasets/McGill-NLP___weblinx/chat/0.0.0/e665e9ca7d823caa541e4de3acc046467c910eae/dataset_info.json\n",
      "DEBUG:filelock:Attempting to release lock 1386414218240 on C:\\Users\\aswil\\.cache\\huggingface\\datasets\\_Users_aswil_.cache_huggingface_datasets_McGill-NLP___weblinx_chat_0.0.0_e665e9ca7d823caa541e4de3acc046467c910eae.lock\n",
      "DEBUG:filelock:Lock 1386414218240 released on C:\\Users\\aswil\\.cache\\huggingface\\datasets\\_Users_aswil_.cache_huggingface_datasets_McGill-NLP___weblinx_chat_0.0.0_e665e9ca7d823caa541e4de3acc046467c910eae.lock\n",
      "DEBUG:filelock:Attempting to acquire lock 1386421660656 on C:\\Users\\aswil\\.cache\\huggingface\\datasets\\McGill-NLP___weblinx\\chat\\0.0.0\\e665e9ca7d823caa541e4de3acc046467c910eae_builder.lock\n",
      "DEBUG:filelock:Lock 1386421660656 acquired on C:\\Users\\aswil\\.cache\\huggingface\\datasets\\McGill-NLP___weblinx\\chat\\0.0.0\\e665e9ca7d823caa541e4de3acc046467c910eae_builder.lock\n",
      "DEBUG:fsspec.local:open file: C:/Users/aswil/.cache/huggingface/datasets/McGill-NLP___weblinx/chat/0.0.0/e665e9ca7d823caa541e4de3acc046467c910eae/dataset_info.json\n",
      "DEBUG:filelock:Attempting to release lock 1386421660656 on C:\\Users\\aswil\\.cache\\huggingface\\datasets\\McGill-NLP___weblinx\\chat\\0.0.0\\e665e9ca7d823caa541e4de3acc046467c910eae_builder.lock\n",
      "DEBUG:filelock:Lock 1386421660656 released on C:\\Users\\aswil\\.cache\\huggingface\\datasets\\McGill-NLP___weblinx\\chat\\0.0.0\\e665e9ca7d823caa541e4de3acc046467c910eae_builder.lock\n"
     ]
    }
   ],
   "source": [
    "# Retrieve template and find valid and turn datasets\n",
    "snapshot_download(\n",
    "    \"McGill-NLP/WebLINX\", repo_type=\"dataset\", allow_patterns=\"templates/*\", local_dir=\".\"\n",
    ")\n",
    "with open('templates/llama.txt') as f:\n",
    "    template = f.read()\n",
    "valid_dataset = load_dataset(\"McGill-NLP/weblinx\", split=\"validation\")\n",
    "valid_turn_text = []\n",
    "valid_turn_info = []\n",
    "for i in valid_dataset:\n",
    "    valid_turn_text.append(template.format(**i))\n",
    "    valid_turn_info.append(i)\n",
    "\n",
    "test_dataset = load_dataset(\"McGill-NLP/weblinx\", split=\"test\")\n",
    "test_turn_text = []\n",
    "test_turn_info = []\n",
    "for i in test_dataset:\n",
    "    test_turn_text.append(template.format(**i))\n",
    "    test_turn_info.append(i)"
   ]
  },
  {
   "cell_type": "code",
   "execution_count": 21,
   "metadata": {},
   "outputs": [
    {
     "name": "stdout",
     "output_type": "stream",
     "text": [
      "2308\n",
      "2126\n"
     ]
    }
   ],
   "source": [
    "print(len(test_dataset))\n",
    "print(len(valid_dataset))"
   ]
  },
  {
   "cell_type": "code",
   "execution_count": 13,
   "metadata": {},
   "outputs": [],
   "source": [
    "#separate into halves for bugfixing + seeing if things went wrong\n",
    "first_half_valid_texts = valid_turn_text[:len(valid_turn_text)//2]\n",
    "second_half_valid_texts = valid_turn_text[len(valid_turn_text)//2:]"
   ]
  },
  {
   "cell_type": "code",
   "execution_count": null,
   "metadata": {},
   "outputs": [],
   "source": [
    "llama1_3_action_model = pipeline(\"text-generation\",\n",
    "    model=\"McGill-NLP/Sheared-LLaMA-1.3B-weblinx\", device=device, torch_dtype='auto'\n",
    ")"
   ]
  },
  {
   "cell_type": "code",
   "execution_count": 12,
   "metadata": {},
   "outputs": [],
   "source": [
    "llama1_3_first_half_valid_correct = []\n",
    "llama1_3_first_half_valid_predictions = []\n",
    "#collect correct and predictions from the model / data\n",
    "llama1_3_valid_first_outputs = llama1_3_action_model(first_half_valid_texts, return_full_text=False, max_new_tokens=64, truncation=True)\n",
    "for i, out in enumerate(llama1_3_valid_first_outputs):\n",
    "    pred = out[0]['generated_text']\n",
    "    llama1_3_first_half_valid_correct.append(valid_turn_info[i][\"action\"])\n",
    "    llama1_3_first_half_valid_predictions.append(pred)"
   ]
  },
  {
   "cell_type": "code",
   "execution_count": 14,
   "metadata": {},
   "outputs": [],
   "source": [
    "llama1_3_second_half_valid_correct = []\n",
    "llama1_3_second_half_valid_predictions = []\n",
    "llama1_3_valid_second_outputs = llama1_3_action_model(second_half_valid_texts, return_full_text=False, max_new_tokens=64, truncation=True)\n",
    "for i, out in enumerate(llama1_3_valid_second_outputs):\n",
    "    pred = out[0]['generated_text']\n",
    "    llama1_3_second_half_valid_correct.append(valid_turn_info[i + len(valid_turn_text)//2][\"action\"])\n",
    "    llama1_3_second_half_valid_predictions.append(pred)"
   ]
  },
  {
   "cell_type": "code",
   "execution_count": 15,
   "metadata": {},
   "outputs": [
    {
     "name": "stdout",
     "output_type": "stream",
     "text": [
      "List has been saved to llama1_3_valid_correct.json\n",
      "List has been saved to llama1_3_valid_predictions.json\n"
     ]
    }
   ],
   "source": [
    "# save the correct and predictions as jsons for later usage\n",
    "llama1_3_valid_correct = llama1_3_first_half_valid_correct + llama1_3_second_half_valid_correct\n",
    "llama1_3_valid_predictions = llama1_3_first_half_valid_predictions + llama1_3_second_half_valid_predictions\n",
    "file_path = \"llama1_3_valid_correct.json\"\n",
    "\n",
    "with open(file_path, \"w\") as file:\n",
    "    json.dump(llama1_3_valid_correct, file)\n",
    "\n",
    "print(\"List has been saved to\", file_path)\n",
    "\n",
    "file_path2 = \"llama1_3_valid_predictions.json\"\n",
    "\n",
    "with open(file_path2, \"w\") as file:\n",
    "\n",
    "    json.dump(llama1_3_valid_predictions, file)\n",
    "\n",
    "print(\"List has been saved to\", file_path2)\n"
   ]
  },
  {
   "cell_type": "code",
   "execution_count": 14,
   "metadata": {},
   "outputs": [],
   "source": [
    "#do the same for test dataset as valid\n",
    "first_half_test_texts = test_turn_text[:len(test_turn_text)//2]\n",
    "second_half_test_texts = test_turn_text[len(test_turn_text)//2:]"
   ]
  },
  {
   "cell_type": "code",
   "execution_count": null,
   "metadata": {},
   "outputs": [],
   "source": [
    "llama1_3_first_half_test_correct = []\n",
    "llama1_3_first_half_test_predictions = []\n",
    "llama1_3_test_first_outputs = llama1_3_action_model(first_half_test_texts, return_full_text=False, max_new_tokens=64, truncation=True)\n",
    "for i, out in enumerate(llama1_3_test_first_outputs):\n",
    "    pred = out[0]['generated_text']\n",
    "    llama1_3_first_half_test_correct.append(test_turn_info[i][\"action\"])\n",
    "    llama1_3_first_half_test_predictions.append(pred)"
   ]
  },
  {
   "cell_type": "code",
   "execution_count": null,
   "metadata": {},
   "outputs": [],
   "source": [
    "llama1_3_second_half_test_correct = []\n",
    "llama1_3_second_half_test_predictions = []\n",
    "llama1_3_test_second_outputs = llama1_3_action_model(second_half_test_texts, return_full_text=False, max_new_tokens=64, truncation=True)\n",
    "for i, out in enumerate(llama1_3_test_second_outputs):\n",
    "    pred = out[0]['generated_text']\n",
    "    llama1_3_second_half_test_correct.append(test_turn_info[i + len(test_turn_text)//2][\"action\"])\n",
    "    llama1_3_second_half_test_predictions.append(pred)"
   ]
  },
  {
   "cell_type": "code",
   "execution_count": null,
   "metadata": {},
   "outputs": [],
   "source": [
    "llama1_3_test_correct = llama1_3_first_half_test_correct + llama1_3_second_half_test_correct\n",
    "llama1_3_test_predictions = llama1_3_first_half_test_predictions + llama1_3_second_half_test_predictions\n",
    "file_path = \"llama1_3_test_predictions.json\"\n",
    "\n",
    "with open(file_path, \"w\") as file:\n",
    "    json.dump(llama1_3_test_predictions, file)\n",
    "\n",
    "print(\"List has been saved to\", file_path)\n",
    "\n",
    "file_path2 = \"llama1_3_test_correct.json\"\n",
    "\n",
    "with open(file_path2, \"w\") as file:\n",
    "    json.dump(llama1_3_test_correct, file)\n",
    "\n",
    "print(\"List has been saved to\", file_path2)"
   ]
  },
  {
   "cell_type": "code",
   "execution_count": null,
   "metadata": {},
   "outputs": [],
   "source": [
    "#Now do it all for LLaMA2.7!\n",
    "llama2_7_action_model = pipeline(\"text-generation\",\n",
    "    model=\"McGill-NLP/Sheared-LLaMA-2.7B-weblinx\", device=device, torch_dtype='auto'\n",
    ")"
   ]
  },
  {
   "cell_type": "code",
   "execution_count": null,
   "metadata": {},
   "outputs": [],
   "source": [
    "llama2_7_first_half_valid_correct = []\n",
    "llama2_7_first_half_valid_predictions = []\n",
    "llama2_7_valid_first_outputs = llama2_7_action_model(first_half_valid_texts, return_full_text=False, max_new_tokens=64, truncation=True)\n",
    "for i, out in enumerate(llama2_7_valid_first_outputs):\n",
    "    pred = out[0]['generated_text']\n",
    "    llama2_7_first_half_valid_correct.append(valid_turn_info[i][\"action\"])\n",
    "    llama2_7_first_half_valid_predictions.append(pred)"
   ]
  },
  {
   "cell_type": "code",
   "execution_count": null,
   "metadata": {},
   "outputs": [],
   "source": [
    "llama2_7_second_half_valid_correct = []\n",
    "llama2_7_second_half_valid_predictions = []\n",
    "llama2_7_valid_second_outputs = llama2_7_action_model(second_half_valid_texts, return_full_text=False, max_new_tokens=64, truncation=True)\n",
    "for i, out in enumerate(llama2_7_valid_second_outputs):\n",
    "    pred = out[0]['generated_text']\n",
    "    llama2_7_second_half_valid_correct.append(valid_turn_info[i + len(valid_turn_text)//2][\"action\"])\n",
    "    llama2_7_second_half_valid_predictions.append(pred)"
   ]
  },
  {
   "cell_type": "code",
   "execution_count": null,
   "metadata": {},
   "outputs": [],
   "source": [
    "llama2_7_valid_correct = llama2_7_first_half_valid_correct + llama2_7_second_half_valid_correct\n",
    "llama2_7_valid_predictions = llama2_7_first_half_valid_predictions + llama2_7_second_half_valid_predictions\n",
    "file_path = \"llama2_7_valid_correct.json\"\n",
    "\n",
    "with open(file_path, \"w\") as file:\n",
    "    json.dump(llama2_7_valid_correct, file)\n",
    "\n",
    "print(\"List has been saved to\", file_path)\n",
    "\n",
    "file_path2 = \"llama2_7_valid_predictions.json\"\n",
    "\n",
    "with open(file_path2, \"w\") as file:\n",
    "    json.dump(llama2_7_valid_predictions, file)\n",
    "\n",
    "print(\"List has been saved to\", file_path2)"
   ]
  },
  {
   "cell_type": "code",
   "execution_count": null,
   "metadata": {},
   "outputs": [],
   "source": [
    "llama2_7_first_half_test_correct = []\n",
    "llama2_7_first_half_test_predictions = []\n",
    "llama2_7_test_first_outputs = llama2_7_action_model(first_half_test_texts, return_full_text=False, max_new_tokens=64, truncation=True)\n",
    "for i, out in enumerate(llama2_7_test_first_outputs):\n",
    "    pred = out[0]['generated_text']\n",
    "    llama2_7_first_half_test_correct.append(test_turn_info[i][\"action\"])\n",
    "    llama2_7_first_half_test_predictions.append(pred)"
   ]
  },
  {
   "cell_type": "code",
   "execution_count": null,
   "metadata": {},
   "outputs": [],
   "source": [
    "llama2_7_second_half_test_correct = []\n",
    "llama2_7_second_half_test_predictions = []\n",
    "llama2_7_test_second_outputs = llama2_7_action_model(second_half_test_texts, return_full_text=False, max_new_tokens=64, truncation=True)\n",
    "for i, out in enumerate(llama2_7_test_second_outputs):\n",
    "    pred = out[0]['generated_text']\n",
    "    llama2_7_second_half_test_correct.append(test_turn_info[i + len(test_turn_text)//2][\"action\"])\n",
    "    llama2_7_second_half_test_predictions.append(pred)"
   ]
  },
  {
   "cell_type": "code",
   "execution_count": null,
   "metadata": {},
   "outputs": [],
   "source": [
    "llama2_7_test_correct = llama2_7_first_half_test_correct + llama2_7_second_half_test_correct\n",
    "llama2_7_test_predictions = llama2_7_first_half_test_predictions + llama2_7_second_half_test_predictions\n",
    "file_path = \"llama2_7_test_predictions.json\"\n",
    "\n",
    "with open(file_path, \"w\") as file:\n",
    "    json.dump(llama2_7_test_predictions, file)\n",
    "\n",
    "print(\"List has been saved to\", file_path)\n",
    "\n",
    "file_path2 = \"llama2_7_test_correct.json\"\n",
    "\n",
    "with open(file_path2, \"w\") as file:\n",
    "    json.dump(llama2_7_test_correct, file)\n",
    "\n",
    "print(\"List has been saved to\", file_path2)"
   ]
  },
  {
   "cell_type": "code",
   "execution_count": null,
   "metadata": {},
   "outputs": [],
   "source": [
    "file_names = [\"llama1_3_test_correct.json\", \"llama1_3_test_predictions.json\", \"llama1_3_valid_correct.json\", \"llama1_3_valid_predictions.json\"]\n",
    "\n",
    "variable_names = [\"llama1_3_test_correct\", \"llama1_3_test_predictions\", \"llama1_3_valid_correct\", \"llama1_3_valid_predictions\"]\n",
    "\n",
    "llama1_3_data_dict = {}\n",
    "\n",
    "\n",
    "for file_name, var_name in zip(file_names, variable_names):\n",
    "    path_to_file = os.path.join(\"experiment_data\", file_name)\n",
    "    with open(path_to_file, \"r\") as file:\n",
    "        data_list = json.load(file)\n",
    "        llama1_3_data_dict[var_name] = data_list\n",
    "\n",
    "print(\"Contents of the dictionary:\")\n",
    "for var_name, data_list in llama1_3_data_dict.items():\n",
    "    print(f\"{var_name}: {data_list}\")"
   ]
  },
  {
   "cell_type": "code",
   "execution_count": null,
   "metadata": {},
   "outputs": [],
   "source": [
    "# Get all of the cleaned up predictions and correct actions\n",
    "llama1_3_valid_correct_cleaned = []\n",
    "llama1_3_valid_predictions_cleaned = []\n",
    "for corr, pred in zip(llama1_3_data_dict[\"llama1_3_valid_correct\"], llama1_3_data_dict[\"llama1_3_valid_predictions\"]):\n",
    "    #get the action predicted\n",
    "    closing_paren_index = pred.find(')')\n",
    "    substring = pred[:closing_paren_index + 1]  # Include the closing parenthesis\n",
    "    #clean up the leading and trailing blanks for correct and predicted, lower, and get rid of punctuation \n",
    "    pred_cleaned = substring.strip().translate(str.maketrans('', '', string.punctuation)).lower()\n",
    "    corr_cleaned = corr.translate(str.maketrans('', '', string.punctuation)).lower()\n",
    "    llama1_3_valid_correct_cleaned.append(corr_cleaned)\n",
    "    llama1_3_valid_predictions_cleaned.append(pred_cleaned)\n",
    "print(llama1_3_valid_correct_cleaned)\n",
    "print(llama1_3_valid_predictions_cleaned)"
   ]
  },
  {
   "cell_type": "code",
   "execution_count": null,
   "metadata": {},
   "outputs": [],
   "source": [
    "# Get all of cleaned up actions but for test this time\n",
    "llama1_3_test_correct_cleaned = []\n",
    "llama1_3_test_predictions_cleaned = []\n",
    "for corr, pred in zip(llama1_3_data_dict[\"llama1_3_test_correct\"], llama1_3_data_dict[\"llama1_3_test_predictions\"]):\n",
    "    closing_paren_index = pred.find(')')\n",
    "    substring = pred[:closing_paren_index + 1]\n",
    "    pred_cleaned = substring.strip().translate(str.maketrans('', '', string.punctuation)).lower()\n",
    "    corr_cleaned = corr.translate(str.maketrans('', '', string.punctuation)).lower()\n",
    "    llama1_3_test_correct_cleaned.append(corr_cleaned)\n",
    "    llama1_3_test_predictions_cleaned.append(pred_cleaned)\n",
    "print(llama1_3_test_correct_cleaned)\n",
    "print(llama1_3_test_predictions_cleaned)"
   ]
  },
  {
   "cell_type": "code",
   "execution_count": null,
   "metadata": {},
   "outputs": [],
   "source": [
    "# do the same for llama 2.7B\n",
    "file_names = [\"llama2_7_test_correct.json\", \"llama2_7_test_predictions.json\", \"llama2_7_valid_correct.json\", \"llama2_7_valid_predictions.json\"]\n",
    "\n",
    "variable_names = [\"llama2_7_test_correct\", \"llama2_7_test_predictions\", \"llama2_7_valid_correct\", \"llama2_7_valid_predictions\"]\n",
    "\n",
    "llama2_7_data_dict = {}\n",
    "\n",
    "for file_name, var_name in zip(file_names, variable_names):\n",
    "    path_to_file = os.path.join(\"experiment_data\", file_name)\n",
    "    with open(path_to_file, \"r\") as file:\n",
    "        data_list = json.load(file)\n",
    "        llama2_7_data_dict[var_name] = data_list\n",
    "\n",
    "print(\"Contents of the dictionary:\")\n",
    "for var_name, data_list in llama2_7_data_dict.items():\n",
    "    print(f\"{var_name}: {data_list}\")"
   ]
  },
  {
   "cell_type": "code",
   "execution_count": null,
   "metadata": {},
   "outputs": [],
   "source": [
    "llama2_7_valid_correct_cleaned = []\n",
    "llama2_7_valid_predictions_cleaned = []\n",
    "for corr, pred in zip(llama2_7_data_dict[\"llama2_7_valid_correct\"], llama2_7_data_dict[\"llama2_7_valid_predictions\"]):\n",
    "    closing_paren_index = pred.find(')')\n",
    "    substring = pred[:closing_paren_index + 1]\n",
    "    pred_cleaned = substring.strip().translate(str.maketrans('', '', string.punctuation)).lower()\n",
    "    corr_cleaned = corr.translate(str.maketrans('', '', string.punctuation)).lower()\n",
    "    llama2_7_valid_correct_cleaned.append(corr_cleaned)\n",
    "    llama2_7_valid_predictions_cleaned.append(pred_cleaned)\n",
    "print(llama2_7_valid_correct_cleaned)\n",
    "print(llama2_7_valid_predictions_cleaned)"
   ]
  },
  {
   "cell_type": "code",
   "execution_count": null,
   "metadata": {},
   "outputs": [],
   "source": [
    "llama2_7_test_correct_cleaned = []\n",
    "llama2_7_test_predictions_cleaned = []\n",
    "for corr, pred in zip(llama2_7_data_dict[\"llama2_7_test_correct\"], llama2_7_data_dict[\"llama2_7_test_predictions\"]):\n",
    "    closing_paren_index = pred.find(')')\n",
    "    substring = pred[:closing_paren_index + 1]\n",
    "    pred_cleaned = substring.strip().translate(str.maketrans('', '', string.punctuation)).lower()\n",
    "    corr_cleaned = corr.translate(str.maketrans('', '', string.punctuation)).lower()\n",
    "    llama2_7_test_correct_cleaned.append(corr_cleaned)\n",
    "    llama2_7_test_predictions_cleaned.append(pred_cleaned)\n",
    "print(llama2_7_test_correct_cleaned)\n",
    "print(llama2_7_test_predictions_cleaned)"
   ]
  },
  {
   "cell_type": "code",
   "execution_count": 64,
   "metadata": {},
   "outputs": [],
   "source": [
    "def calculate_accuracy(list1, list2, threshold):\n",
    "    if len(list1) != len(list2):\n",
    "        raise ValueError(\"Lists must be of the same length\")\n",
    "    hits = 0\n",
    "    total = len(list1)\n",
    "    similarities = []\n",
    "    for str1, str2 in zip(list1, list2):\n",
    "        # Calculate Jaro-Winkler similarity directly\n",
    "        similarity = jellyfish.jaro_winkler_similarity(str1, str2)\n",
    "        \n",
    "        # If similarity is greater than the threshold, or one of the strings contains the other, count it as a hit\n",
    "        if similarity >= threshold or str1 in str2 or str2 in str1:\n",
    "            hits += 1\n",
    "        similarities.append(similarity)\n",
    "    # get average jaro-winkler score\n",
    "    avg_score = np.mean(similarities) * 100\n",
    "    accuracy = (hits / total) * 100\n",
    "    return accuracy, avg_score"
   ]
  },
  {
   "cell_type": "code",
   "execution_count": 78,
   "metadata": {},
   "outputs": [
    {
     "name": "stdout",
     "output_type": "stream",
     "text": [
      "Accuracy of LLaMA1.3B on Valid Dataset for Jaro-Winkler similarity >= 0.80: 56.35%\n",
      "Average Jaro-Winkler Score of LLaMA1.3B on Valid Dataset: 66.37%\n"
     ]
    }
   ],
   "source": [
    "# All of the values below this are from the local prediction and correct jsons. Feel free to create your own using the above code to get your own numbers!\n",
    "# Also, due to the running time and computational load that running the models carries, we ran it and got the jsons once, because it was already a lot of data.\n",
    "threshold = 0.8\n",
    "llama1_3_valid_accuracy, llama1_3_valid_jaro_score = calculate_accuracy(llama1_3_valid_predictions_cleaned, llama1_3_valid_correct_cleaned, threshold)\n",
    "print(f\"Accuracy of LLaMA1.3B on Valid Dataset for Jaro-Winkler similarity >= {threshold:.2f}: {llama1_3_valid_accuracy:.2f}%\")\n",
    "print(f\"Average Jaro-Winkler Score of LLaMA1.3B on Valid Dataset: {llama1_3_valid_jaro_score:.2f}%\")"
   ]
  },
  {
   "cell_type": "code",
   "execution_count": 79,
   "metadata": {},
   "outputs": [
    {
     "name": "stdout",
     "output_type": "stream",
     "text": [
      "Accuracy of LLaMA1.3B on test Dataset for Jaro-Winkler similarity >= 0.80: 56.85%\n",
      "Average Jaro-Winkler Score of LLaMA1.3B on test Dataset: 67.33%\n"
     ]
    }
   ],
   "source": [
    "threshold = 0.8\n",
    "llama1_3_test_accuracy, llama1_3_test_jaro_score = calculate_accuracy(llama1_3_test_predictions_cleaned, llama1_3_test_correct_cleaned, threshold)\n",
    "print(f\"Accuracy of LLaMA1.3B on test Dataset for Jaro-Winkler similarity >= {threshold:.2f}: {llama1_3_test_accuracy:.2f}%\")\n",
    "print(f\"Average Jaro-Winkler Score of LLaMA1.3B on test Dataset: {llama1_3_test_jaro_score:.2f}%\")"
   ]
  },
  {
   "cell_type": "code",
   "execution_count": 80,
   "metadata": {},
   "outputs": [
    {
     "name": "stdout",
     "output_type": "stream",
     "text": [
      "Accuracy of LLaMA1.3B on Valid Dataset for Jaro-Winkler similarity >= 0.80: 60.02%\n",
      "Average Jaro-Winkler Score of LLaMA2.7B on Valid Dataset: 70.57%\n"
     ]
    }
   ],
   "source": [
    "threshold = 0.8\n",
    "llama2_7_valid_accuracy, llama2_7_valid_jaro_score = calculate_accuracy(llama2_7_valid_predictions_cleaned, llama2_7_valid_correct_cleaned, threshold)\n",
    "print(f\"Accuracy of LLaMA1.3B on Valid Dataset for Jaro-Winkler similarity >= {threshold:.2f}: {llama2_7_valid_accuracy:.2f}%\")\n",
    "print(f\"Average Jaro-Winkler Score of LLaMA2.7B on Valid Dataset: {llama2_7_valid_jaro_score:.2f}%\")"
   ]
  },
  {
   "cell_type": "code",
   "execution_count": 81,
   "metadata": {},
   "outputs": [
    {
     "name": "stdout",
     "output_type": "stream",
     "text": [
      "Accuracy of LLaMA1.3B on test Dataset for Jaro-Winkler similarity >= 0.80: 46.01%\n",
      "Average Jaro-Winkler Score of LLaMA2.7B on test Dataset: 62.77%\n"
     ]
    }
   ],
   "source": [
    "threshold = 0.8\n",
    "llama2_7_test_accuracy, llama2_7_test_jaro_score = calculate_accuracy(llama2_7_test_predictions_cleaned, llama2_7_test_correct_cleaned, threshold)\n",
    "print(f\"Accuracy of LLaMA1.3B on test Dataset for Jaro-Winkler similarity >= {threshold:.2f}: {llama2_7_test_accuracy:.2f}%\")\n",
    "print(f\"Average Jaro-Winkler Score of LLaMA2.7B on test Dataset: {llama2_7_test_jaro_score:.2f}%\")"
   ]
  }
 ],
 "metadata": {
  "kernelspec": {
   "display_name": "glass_dots",
   "language": "python",
   "name": "python3"
  },
  "language_info": {
   "codemirror_mode": {
    "name": "ipython",
    "version": 3
   },
   "file_extension": ".py",
   "mimetype": "text/x-python",
   "name": "python",
   "nbconvert_exporter": "python",
   "pygments_lexer": "ipython3",
   "version": "3.10.4"
  }
 },
 "nbformat": 4,
 "nbformat_minor": 2
}
